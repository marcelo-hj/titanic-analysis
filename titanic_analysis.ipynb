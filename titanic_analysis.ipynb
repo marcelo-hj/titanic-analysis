{
  "nbformat": 4,
  "nbformat_minor": 2,
  "metadata": {
    "colab": {
      "name": "decision_tree_classification.ipynb",
      "provenance": [],
      "collapsed_sections": [],
      "toc_visible": true,
      "machine_shape": "hm"
    },
    "kernelspec": {
      "name": "python3",
      "display_name": "Python 3.8.8 64-bit ('base': conda)"
    },
    "language_info": {
      "name": "python",
      "version": "3.8.8",
      "mimetype": "text/x-python",
      "codemirror_mode": {
        "name": "ipython",
        "version": 3
      },
      "pygments_lexer": "ipython3",
      "nbconvert_exporter": "python",
      "file_extension": ".py"
    },
    "interpreter": {
      "hash": "490e2c848f3f2bf073dfad4f1e6cc484612b3d778b96062c2e87aac617c4dca6"
    }
  },
  "cells": [
    {
      "cell_type": "markdown",
      "source": [
        "# Titanic Competetion\r\n"
      ],
      "metadata": {
        "id": "0MRC0e0KhQ0S",
        "colab_type": "text"
      }
    },
    {
      "cell_type": "code",
      "execution_count": 474,
      "source": [
        "import numpy as np # linear algebra\r\n",
        "import matplotlib.pyplot as plt\r\n",
        "import pandas as pd # data processing, CSV file I/O (e.g. pd.read_csv) - R > all\r\n",
        "\r\n",
        "\r\n",
        "import warnings ##To remove warnings\r\n",
        "warnings.filterwarnings('ignore')"
      ],
      "outputs": [],
      "metadata": {
        "id": "YvGPUQaHhXfL",
        "colab_type": "code",
        "colab": {}
      }
    },
    {
      "cell_type": "code",
      "execution_count": 475,
      "source": [
        "import os\r\n",
        "print(os.listdir(\"input\"))"
      ],
      "outputs": [
        {
          "output_type": "stream",
          "name": "stdout",
          "text": [
            "['gender_submission.csv', 'test.csv', 'train.csv']\n"
          ]
        }
      ],
      "metadata": {}
    },
    {
      "cell_type": "code",
      "execution_count": 476,
      "source": [
        "#importing the training and test data sets\r\n",
        "dataset = pd.read_csv('input/train.csv')\r\n",
        "df_train = pd.read_csv('input/train.csv')\r\n",
        "df_test = pd.read_csv('input/test.csv')"
      ],
      "outputs": [],
      "metadata": {
        "id": "M52QDmyzhh9s",
        "colab_type": "code",
        "colab": {}
      }
    },
    {
      "cell_type": "code",
      "execution_count": 477,
      "source": [
        "df_train.head()"
      ],
      "outputs": [
        {
          "output_type": "execute_result",
          "data": {
            "text/plain": [
              "   PassengerId  Survived  Pclass  \\\n",
              "0            1         0       3   \n",
              "1            2         1       1   \n",
              "2            3         1       3   \n",
              "3            4         1       1   \n",
              "4            5         0       3   \n",
              "\n",
              "                                                Name     Sex   Age  SibSp  \\\n",
              "0                            Braund, Mr. Owen Harris    male  22.0      1   \n",
              "1  Cumings, Mrs. John Bradley (Florence Briggs Th...  female  38.0      1   \n",
              "2                             Heikkinen, Miss. Laina  female  26.0      0   \n",
              "3       Futrelle, Mrs. Jacques Heath (Lily May Peel)  female  35.0      1   \n",
              "4                           Allen, Mr. William Henry    male  35.0      0   \n",
              "\n",
              "   Parch            Ticket     Fare Cabin Embarked  \n",
              "0      0         A/5 21171   7.2500   NaN        S  \n",
              "1      0          PC 17599  71.2833   C85        C  \n",
              "2      0  STON/O2. 3101282   7.9250   NaN        S  \n",
              "3      0            113803  53.1000  C123        S  \n",
              "4      0            373450   8.0500   NaN        S  "
            ],
            "text/html": [
              "<div>\n",
              "<style scoped>\n",
              "    .dataframe tbody tr th:only-of-type {\n",
              "        vertical-align: middle;\n",
              "    }\n",
              "\n",
              "    .dataframe tbody tr th {\n",
              "        vertical-align: top;\n",
              "    }\n",
              "\n",
              "    .dataframe thead th {\n",
              "        text-align: right;\n",
              "    }\n",
              "</style>\n",
              "<table border=\"1\" class=\"dataframe\">\n",
              "  <thead>\n",
              "    <tr style=\"text-align: right;\">\n",
              "      <th></th>\n",
              "      <th>PassengerId</th>\n",
              "      <th>Survived</th>\n",
              "      <th>Pclass</th>\n",
              "      <th>Name</th>\n",
              "      <th>Sex</th>\n",
              "      <th>Age</th>\n",
              "      <th>SibSp</th>\n",
              "      <th>Parch</th>\n",
              "      <th>Ticket</th>\n",
              "      <th>Fare</th>\n",
              "      <th>Cabin</th>\n",
              "      <th>Embarked</th>\n",
              "    </tr>\n",
              "  </thead>\n",
              "  <tbody>\n",
              "    <tr>\n",
              "      <th>0</th>\n",
              "      <td>1</td>\n",
              "      <td>0</td>\n",
              "      <td>3</td>\n",
              "      <td>Braund, Mr. Owen Harris</td>\n",
              "      <td>male</td>\n",
              "      <td>22.0</td>\n",
              "      <td>1</td>\n",
              "      <td>0</td>\n",
              "      <td>A/5 21171</td>\n",
              "      <td>7.2500</td>\n",
              "      <td>NaN</td>\n",
              "      <td>S</td>\n",
              "    </tr>\n",
              "    <tr>\n",
              "      <th>1</th>\n",
              "      <td>2</td>\n",
              "      <td>1</td>\n",
              "      <td>1</td>\n",
              "      <td>Cumings, Mrs. John Bradley (Florence Briggs Th...</td>\n",
              "      <td>female</td>\n",
              "      <td>38.0</td>\n",
              "      <td>1</td>\n",
              "      <td>0</td>\n",
              "      <td>PC 17599</td>\n",
              "      <td>71.2833</td>\n",
              "      <td>C85</td>\n",
              "      <td>C</td>\n",
              "    </tr>\n",
              "    <tr>\n",
              "      <th>2</th>\n",
              "      <td>3</td>\n",
              "      <td>1</td>\n",
              "      <td>3</td>\n",
              "      <td>Heikkinen, Miss. Laina</td>\n",
              "      <td>female</td>\n",
              "      <td>26.0</td>\n",
              "      <td>0</td>\n",
              "      <td>0</td>\n",
              "      <td>STON/O2. 3101282</td>\n",
              "      <td>7.9250</td>\n",
              "      <td>NaN</td>\n",
              "      <td>S</td>\n",
              "    </tr>\n",
              "    <tr>\n",
              "      <th>3</th>\n",
              "      <td>4</td>\n",
              "      <td>1</td>\n",
              "      <td>1</td>\n",
              "      <td>Futrelle, Mrs. Jacques Heath (Lily May Peel)</td>\n",
              "      <td>female</td>\n",
              "      <td>35.0</td>\n",
              "      <td>1</td>\n",
              "      <td>0</td>\n",
              "      <td>113803</td>\n",
              "      <td>53.1000</td>\n",
              "      <td>C123</td>\n",
              "      <td>S</td>\n",
              "    </tr>\n",
              "    <tr>\n",
              "      <th>4</th>\n",
              "      <td>5</td>\n",
              "      <td>0</td>\n",
              "      <td>3</td>\n",
              "      <td>Allen, Mr. William Henry</td>\n",
              "      <td>male</td>\n",
              "      <td>35.0</td>\n",
              "      <td>0</td>\n",
              "      <td>0</td>\n",
              "      <td>373450</td>\n",
              "      <td>8.0500</td>\n",
              "      <td>NaN</td>\n",
              "      <td>S</td>\n",
              "    </tr>\n",
              "  </tbody>\n",
              "</table>\n",
              "</div>"
            ]
          },
          "metadata": {},
          "execution_count": 477
        }
      ],
      "metadata": {}
    },
    {
      "cell_type": "code",
      "execution_count": 478,
      "source": [
        "df_train.shape"
      ],
      "outputs": [
        {
          "output_type": "execute_result",
          "data": {
            "text/plain": [
              "(891, 12)"
            ]
          },
          "metadata": {},
          "execution_count": 478
        }
      ],
      "metadata": {}
    },
    {
      "cell_type": "code",
      "execution_count": 479,
      "source": [
        "#let's summarize the dataset\r\n",
        "#we can see the we have some missing values in the \"Age\" column\r\n",
        "df_train.describe()"
      ],
      "outputs": [
        {
          "output_type": "execute_result",
          "data": {
            "text/plain": [
              "       PassengerId    Survived      Pclass         Age       SibSp  \\\n",
              "count   891.000000  891.000000  891.000000  714.000000  891.000000   \n",
              "mean    446.000000    0.383838    2.308642   29.699118    0.523008   \n",
              "std     257.353842    0.486592    0.836071   14.526497    1.102743   \n",
              "min       1.000000    0.000000    1.000000    0.420000    0.000000   \n",
              "25%     223.500000    0.000000    2.000000   20.125000    0.000000   \n",
              "50%     446.000000    0.000000    3.000000   28.000000    0.000000   \n",
              "75%     668.500000    1.000000    3.000000   38.000000    1.000000   \n",
              "max     891.000000    1.000000    3.000000   80.000000    8.000000   \n",
              "\n",
              "            Parch        Fare  \n",
              "count  891.000000  891.000000  \n",
              "mean     0.381594   32.204208  \n",
              "std      0.806057   49.693429  \n",
              "min      0.000000    0.000000  \n",
              "25%      0.000000    7.910400  \n",
              "50%      0.000000   14.454200  \n",
              "75%      0.000000   31.000000  \n",
              "max      6.000000  512.329200  "
            ],
            "text/html": [
              "<div>\n",
              "<style scoped>\n",
              "    .dataframe tbody tr th:only-of-type {\n",
              "        vertical-align: middle;\n",
              "    }\n",
              "\n",
              "    .dataframe tbody tr th {\n",
              "        vertical-align: top;\n",
              "    }\n",
              "\n",
              "    .dataframe thead th {\n",
              "        text-align: right;\n",
              "    }\n",
              "</style>\n",
              "<table border=\"1\" class=\"dataframe\">\n",
              "  <thead>\n",
              "    <tr style=\"text-align: right;\">\n",
              "      <th></th>\n",
              "      <th>PassengerId</th>\n",
              "      <th>Survived</th>\n",
              "      <th>Pclass</th>\n",
              "      <th>Age</th>\n",
              "      <th>SibSp</th>\n",
              "      <th>Parch</th>\n",
              "      <th>Fare</th>\n",
              "    </tr>\n",
              "  </thead>\n",
              "  <tbody>\n",
              "    <tr>\n",
              "      <th>count</th>\n",
              "      <td>891.000000</td>\n",
              "      <td>891.000000</td>\n",
              "      <td>891.000000</td>\n",
              "      <td>714.000000</td>\n",
              "      <td>891.000000</td>\n",
              "      <td>891.000000</td>\n",
              "      <td>891.000000</td>\n",
              "    </tr>\n",
              "    <tr>\n",
              "      <th>mean</th>\n",
              "      <td>446.000000</td>\n",
              "      <td>0.383838</td>\n",
              "      <td>2.308642</td>\n",
              "      <td>29.699118</td>\n",
              "      <td>0.523008</td>\n",
              "      <td>0.381594</td>\n",
              "      <td>32.204208</td>\n",
              "    </tr>\n",
              "    <tr>\n",
              "      <th>std</th>\n",
              "      <td>257.353842</td>\n",
              "      <td>0.486592</td>\n",
              "      <td>0.836071</td>\n",
              "      <td>14.526497</td>\n",
              "      <td>1.102743</td>\n",
              "      <td>0.806057</td>\n",
              "      <td>49.693429</td>\n",
              "    </tr>\n",
              "    <tr>\n",
              "      <th>min</th>\n",
              "      <td>1.000000</td>\n",
              "      <td>0.000000</td>\n",
              "      <td>1.000000</td>\n",
              "      <td>0.420000</td>\n",
              "      <td>0.000000</td>\n",
              "      <td>0.000000</td>\n",
              "      <td>0.000000</td>\n",
              "    </tr>\n",
              "    <tr>\n",
              "      <th>25%</th>\n",
              "      <td>223.500000</td>\n",
              "      <td>0.000000</td>\n",
              "      <td>2.000000</td>\n",
              "      <td>20.125000</td>\n",
              "      <td>0.000000</td>\n",
              "      <td>0.000000</td>\n",
              "      <td>7.910400</td>\n",
              "    </tr>\n",
              "    <tr>\n",
              "      <th>50%</th>\n",
              "      <td>446.000000</td>\n",
              "      <td>0.000000</td>\n",
              "      <td>3.000000</td>\n",
              "      <td>28.000000</td>\n",
              "      <td>0.000000</td>\n",
              "      <td>0.000000</td>\n",
              "      <td>14.454200</td>\n",
              "    </tr>\n",
              "    <tr>\n",
              "      <th>75%</th>\n",
              "      <td>668.500000</td>\n",
              "      <td>1.000000</td>\n",
              "      <td>3.000000</td>\n",
              "      <td>38.000000</td>\n",
              "      <td>1.000000</td>\n",
              "      <td>0.000000</td>\n",
              "      <td>31.000000</td>\n",
              "    </tr>\n",
              "    <tr>\n",
              "      <th>max</th>\n",
              "      <td>891.000000</td>\n",
              "      <td>1.000000</td>\n",
              "      <td>3.000000</td>\n",
              "      <td>80.000000</td>\n",
              "      <td>8.000000</td>\n",
              "      <td>6.000000</td>\n",
              "      <td>512.329200</td>\n",
              "    </tr>\n",
              "  </tbody>\n",
              "</table>\n",
              "</div>"
            ]
          },
          "metadata": {},
          "execution_count": 479
        }
      ],
      "metadata": {}
    },
    {
      "cell_type": "code",
      "execution_count": 480,
      "source": [
        "df_test.shape"
      ],
      "outputs": [
        {
          "output_type": "execute_result",
          "data": {
            "text/plain": [
              "(418, 11)"
            ]
          },
          "metadata": {},
          "execution_count": 480
        }
      ],
      "metadata": {}
    },
    {
      "cell_type": "code",
      "execution_count": 481,
      "source": [
        "test_ID = df_test['PassengerId']"
      ],
      "outputs": [],
      "metadata": {}
    },
    {
      "cell_type": "code",
      "execution_count": 482,
      "source": [
        "#delete the id column from datasets\r\n",
        "del df_train['PassengerId']\r\n",
        "del df_test['PassengerId']"
      ],
      "outputs": [],
      "metadata": {}
    },
    {
      "cell_type": "code",
      "execution_count": 483,
      "source": [
        "#exploring outliers\r\n",
        "#we can't find any outlier in the countinous columns \r\n",
        "fig, ax = plt.subplots()\r\n",
        "ax.scatter(x = df_train['Age'], y = df_train['Fare'])\r\n",
        "plt.ylabel('Fare', fontsize=13)\r\n",
        "plt.xlabel('Age', fontsize=13)\r\n",
        "plt.show()"
      ],
      "outputs": [
        {
          "output_type": "display_data",
          "data": {
            "text/plain": [
              "<Figure size 432x288 with 1 Axes>"
            ],
            "image/png": "[encoded data removed]"
          },
          "metadata": {
            "needs_background": "light"
          }
        }
      ],
      "metadata": {}
    },
    {
      "cell_type": "code",
      "execution_count": 484,
      "source": [
        "df_train.isnull().sum()"
      ],
      "outputs": [
        {
          "output_type": "execute_result",
          "data": {
            "text/plain": [
              "Survived      0\n",
              "Pclass        0\n",
              "Name          0\n",
              "Sex           0\n",
              "Age         177\n",
              "SibSp         0\n",
              "Parch         0\n",
              "Ticket        0\n",
              "Fare          0\n",
              "Cabin       687\n",
              "Embarked      2\n",
              "dtype: int64"
            ]
          },
          "metadata": {},
          "execution_count": 484
        }
      ],
      "metadata": {}
    },
    {
      "cell_type": "markdown",
      "source": [
        "# Handling Missing Data"
      ],
      "metadata": {}
    },
    {
      "cell_type": "code",
      "execution_count": 485,
      "source": [
        "## https://jakevdp.github.io/PythonDataScienceHandbook/03.04-missing-values.html\r\n",
        "\r\n",
        "## fill missing age values usiing the median\r\n",
        "df_train[\"Age\"] = df_train[\"Age\"].fillna(df_train[\"Age\"].median())\r\n",
        "df_test[\"Age\"] = df_test[\"Age\"].fillna(df_train[\"Age\"].median())\r\n",
        "\r\n",
        "## As we've seen before, \"Cabin\" has too many NAs. Let's drops this col then\r\n",
        "df_train = df_train.drop(columns=\"Cabin\")\r\n",
        "df_test = df_test.drop(columns=\"Cabin\")\r\n",
        "\r\n",
        "## At last, we drop the rows whereupon \"Embarked\" is NA \r\n",
        "df_train.dropna()\r\n"
      ],
      "outputs": [
        {
          "output_type": "execute_result",
          "data": {
            "text/plain": [
              "     Survived  Pclass                                               Name  \\\n",
              "0           0       3                            Braund, Mr. Owen Harris   \n",
              "1           1       1  Cumings, Mrs. John Bradley (Florence Briggs Th...   \n",
              "2           1       3                             Heikkinen, Miss. Laina   \n",
              "3           1       1       Futrelle, Mrs. Jacques Heath (Lily May Peel)   \n",
              "4           0       3                           Allen, Mr. William Henry   \n",
              "..        ...     ...                                                ...   \n",
              "886         0       2                              Montvila, Rev. Juozas   \n",
              "887         1       1                       Graham, Miss. Margaret Edith   \n",
              "888         0       3           Johnston, Miss. Catherine Helen \"Carrie\"   \n",
              "889         1       1                              Behr, Mr. Karl Howell   \n",
              "890         0       3                                Dooley, Mr. Patrick   \n",
              "\n",
              "        Sex   Age  SibSp  Parch            Ticket     Fare Embarked  \n",
              "0      male  22.0      1      0         A/5 21171   7.2500        S  \n",
              "1    female  38.0      1      0          PC 17599  71.2833        C  \n",
              "2    female  26.0      0      0  STON/O2. 3101282   7.9250        S  \n",
              "3    female  35.0      1      0            113803  53.1000        S  \n",
              "4      male  35.0      0      0            373450   8.0500        S  \n",
              "..      ...   ...    ...    ...               ...      ...      ...  \n",
              "886    male  27.0      0      0            211536  13.0000        S  \n",
              "887  female  19.0      0      0            112053  30.0000        S  \n",
              "888  female  28.0      1      2        W./C. 6607  23.4500        S  \n",
              "889    male  26.0      0      0            111369  30.0000        C  \n",
              "890    male  32.0      0      0            370376   7.7500        Q  \n",
              "\n",
              "[889 rows x 10 columns]"
            ],
            "text/html": [
              "<div>\n",
              "<style scoped>\n",
              "    .dataframe tbody tr th:only-of-type {\n",
              "        vertical-align: middle;\n",
              "    }\n",
              "\n",
              "    .dataframe tbody tr th {\n",
              "        vertical-align: top;\n",
              "    }\n",
              "\n",
              "    .dataframe thead th {\n",
              "        text-align: right;\n",
              "    }\n",
              "</style>\n",
              "<table border=\"1\" class=\"dataframe\">\n",
              "  <thead>\n",
              "    <tr style=\"text-align: right;\">\n",
              "      <th></th>\n",
              "      <th>Survived</th>\n",
              "      <th>Pclass</th>\n",
              "      <th>Name</th>\n",
              "      <th>Sex</th>\n",
              "      <th>Age</th>\n",
              "      <th>SibSp</th>\n",
              "      <th>Parch</th>\n",
              "      <th>Ticket</th>\n",
              "      <th>Fare</th>\n",
              "      <th>Embarked</th>\n",
              "    </tr>\n",
              "  </thead>\n",
              "  <tbody>\n",
              "    <tr>\n",
              "      <th>0</th>\n",
              "      <td>0</td>\n",
              "      <td>3</td>\n",
              "      <td>Braund, Mr. Owen Harris</td>\n",
              "      <td>male</td>\n",
              "      <td>22.0</td>\n",
              "      <td>1</td>\n",
              "      <td>0</td>\n",
              "      <td>A/5 21171</td>\n",
              "      <td>7.2500</td>\n",
              "      <td>S</td>\n",
              "    </tr>\n",
              "    <tr>\n",
              "      <th>1</th>\n",
              "      <td>1</td>\n",
              "      <td>1</td>\n",
              "      <td>Cumings, Mrs. John Bradley (Florence Briggs Th...</td>\n",
              "      <td>female</td>\n",
              "      <td>38.0</td>\n",
              "      <td>1</td>\n",
              "      <td>0</td>\n",
              "      <td>PC 17599</td>\n",
              "      <td>71.2833</td>\n",
              "      <td>C</td>\n",
              "    </tr>\n",
              "    <tr>\n",
              "      <th>2</th>\n",
              "      <td>1</td>\n",
              "      <td>3</td>\n",
              "      <td>Heikkinen, Miss. Laina</td>\n",
              "      <td>female</td>\n",
              "      <td>26.0</td>\n",
              "      <td>0</td>\n",
              "      <td>0</td>\n",
              "      <td>STON/O2. 3101282</td>\n",
              "      <td>7.9250</td>\n",
              "      <td>S</td>\n",
              "    </tr>\n",
              "    <tr>\n",
              "      <th>3</th>\n",
              "      <td>1</td>\n",
              "      <td>1</td>\n",
              "      <td>Futrelle, Mrs. Jacques Heath (Lily May Peel)</td>\n",
              "      <td>female</td>\n",
              "      <td>35.0</td>\n",
              "      <td>1</td>\n",
              "      <td>0</td>\n",
              "      <td>113803</td>\n",
              "      <td>53.1000</td>\n",
              "      <td>S</td>\n",
              "    </tr>\n",
              "    <tr>\n",
              "      <th>4</th>\n",
              "      <td>0</td>\n",
              "      <td>3</td>\n",
              "      <td>Allen, Mr. William Henry</td>\n",
              "      <td>male</td>\n",
              "      <td>35.0</td>\n",
              "      <td>0</td>\n",
              "      <td>0</td>\n",
              "      <td>373450</td>\n",
              "      <td>8.0500</td>\n",
              "      <td>S</td>\n",
              "    </tr>\n",
              "    <tr>\n",
              "      <th>...</th>\n",
              "      <td>...</td>\n",
              "      <td>...</td>\n",
              "      <td>...</td>\n",
              "      <td>...</td>\n",
              "      <td>...</td>\n",
              "      <td>...</td>\n",
              "      <td>...</td>\n",
              "      <td>...</td>\n",
              "      <td>...</td>\n",
              "      <td>...</td>\n",
              "    </tr>\n",
              "    <tr>\n",
              "      <th>886</th>\n",
              "      <td>0</td>\n",
              "      <td>2</td>\n",
              "      <td>Montvila, Rev. Juozas</td>\n",
              "      <td>male</td>\n",
              "      <td>27.0</td>\n",
              "      <td>0</td>\n",
              "      <td>0</td>\n",
              "      <td>211536</td>\n",
              "      <td>13.0000</td>\n",
              "      <td>S</td>\n",
              "    </tr>\n",
              "    <tr>\n",
              "      <th>887</th>\n",
              "      <td>1</td>\n",
              "      <td>1</td>\n",
              "      <td>Graham, Miss. Margaret Edith</td>\n",
              "      <td>female</td>\n",
              "      <td>19.0</td>\n",
              "      <td>0</td>\n",
              "      <td>0</td>\n",
              "      <td>112053</td>\n",
              "      <td>30.0000</td>\n",
              "      <td>S</td>\n",
              "    </tr>\n",
              "    <tr>\n",
              "      <th>888</th>\n",
              "      <td>0</td>\n",
              "      <td>3</td>\n",
              "      <td>Johnston, Miss. Catherine Helen \"Carrie\"</td>\n",
              "      <td>female</td>\n",
              "      <td>28.0</td>\n",
              "      <td>1</td>\n",
              "      <td>2</td>\n",
              "      <td>W./C. 6607</td>\n",
              "      <td>23.4500</td>\n",
              "      <td>S</td>\n",
              "    </tr>\n",
              "    <tr>\n",
              "      <th>889</th>\n",
              "      <td>1</td>\n",
              "      <td>1</td>\n",
              "      <td>Behr, Mr. Karl Howell</td>\n",
              "      <td>male</td>\n",
              "      <td>26.0</td>\n",
              "      <td>0</td>\n",
              "      <td>0</td>\n",
              "      <td>111369</td>\n",
              "      <td>30.0000</td>\n",
              "      <td>C</td>\n",
              "    </tr>\n",
              "    <tr>\n",
              "      <th>890</th>\n",
              "      <td>0</td>\n",
              "      <td>3</td>\n",
              "      <td>Dooley, Mr. Patrick</td>\n",
              "      <td>male</td>\n",
              "      <td>32.0</td>\n",
              "      <td>0</td>\n",
              "      <td>0</td>\n",
              "      <td>370376</td>\n",
              "      <td>7.7500</td>\n",
              "      <td>Q</td>\n",
              "    </tr>\n",
              "  </tbody>\n",
              "</table>\n",
              "<p>889 rows × 10 columns</p>\n",
              "</div>"
            ]
          },
          "metadata": {},
          "execution_count": 485
        }
      ],
      "metadata": {}
    },
    {
      "cell_type": "code",
      "execution_count": 486,
      "source": [
        "# we're gonna use only the surname for this analysis\r\n",
        "df_train[\"Surname\"] = df_train.Name.str.split(\",\").str[0]\r\n",
        "df_test[\"Surname\"] = df_test.Name.str.split(\",\").str[0]\r\n",
        "\r\n",
        "df_train = df_train.drop(columns = \"Name\")\r\n",
        "df_test = df_test.drop(columns = \"Name\")\r\n",
        "\r\n"
      ],
      "outputs": [],
      "metadata": {}
    },
    {
      "cell_type": "code",
      "execution_count": 487,
      "source": [
        "df_test.shape"
      ],
      "outputs": [
        {
          "output_type": "execute_result",
          "data": {
            "text/plain": [
              "(418, 9)"
            ]
          },
          "metadata": {},
          "execution_count": 487
        }
      ],
      "metadata": {}
    },
    {
      "cell_type": "code",
      "execution_count": 488,
      "source": [
        "import seaborn as sns\r\n",
        "#correlation matrix\r\n",
        "# Here we can see that \"Survived\" and \"Pclass\" has a negativy correlation\r\n",
        "corrmat = df_train.corr()\r\n",
        "f, ax = plt.subplots(figsize=(12, 9))\r\n",
        "sns.heatmap(corrmat, vmax=.8, square=True);"
      ],
      "outputs": [
        {
          "output_type": "display_data",
          "data": {
            "text/plain": [
              "<Figure size 864x648 with 2 Axes>"
            ],
            "image/png": "[encoded data removed]"
          },
          "metadata": {
            "needs_background": "light"
          }
        }
      ],
      "metadata": {}
    },
    {
      "cell_type": "code",
      "execution_count": 489,
      "source": [
        "#.sort_values(by=['surname_count'], ascending = [False])\r\n",
        "#calcular a taxa de sobreviventes por nome de familia \r\n"
      ],
      "outputs": [],
      "metadata": {}
    },
    {
      "cell_type": "code",
      "execution_count": 490,
      "source": [
        "df_train.dtypes"
      ],
      "outputs": [
        {
          "output_type": "execute_result",
          "data": {
            "text/plain": [
              "Survived      int64\n",
              "Pclass        int64\n",
              "Sex          object\n",
              "Age         float64\n",
              "SibSp         int64\n",
              "Parch         int64\n",
              "Ticket       object\n",
              "Fare        float64\n",
              "Embarked     object\n",
              "Surname      object\n",
              "dtype: object"
            ]
          },
          "metadata": {},
          "execution_count": 490
        }
      ],
      "metadata": {}
    },
    {
      "cell_type": "code",
      "execution_count": 491,
      "source": [
        "def ticket_type(ticket):\r\n",
        "    if ticket.isnumeric():\r\n",
        "        return \"normal\"\r\n",
        "    else:\r\n",
        "        return ticket.split()[0]\r\n",
        "\r\n",
        "#df_train[\"Ticket\"].unique()\r\n"
      ],
      "outputs": [],
      "metadata": {}
    },
    {
      "cell_type": "code",
      "execution_count": 492,
      "source": [
        "df_train[\"Ticket\"] = df_train[\"Ticket\"].map(ticket_type) ##using map because it's a series\r\n",
        "df_test[\"Ticket\"] = df_test[\"Ticket\"].map(ticket_type)"
      ],
      "outputs": [],
      "metadata": {}
    },
    {
      "cell_type": "markdown",
      "source": [
        "# Analysis"
      ],
      "metadata": {}
    },
    {
      "cell_type": "code",
      "execution_count": 493,
      "source": [
        "X = df_train.iloc[:, 1:]\r\n",
        "y = df_train.iloc[:, 0]"
      ],
      "outputs": [],
      "metadata": {}
    },
    {
      "cell_type": "code",
      "execution_count": 494,
      "source": [
        "##Enconding categorical Data\r\n",
        "categorical_cols = [\"Sex\", \"Ticket\", \"Embarked\", \"Surname\"]\r\n",
        "X = pd.get_dummies(X, columns=categorical_cols)\r\n"
      ],
      "outputs": [],
      "metadata": {}
    },
    {
      "cell_type": "code",
      "execution_count": 495,
      "source": [
        "# Splitting the dataset into the Training set and Test set\r\n",
        "from sklearn.model_selection import train_test_split\r\n",
        "X_train, X_test, y_train, y_test = train_test_split(X, y, test_size = 0.2, random_state = 1)"
      ],
      "outputs": [],
      "metadata": {}
    },
    {
      "cell_type": "code",
      "execution_count": 496,
      "source": [
        "X_train.loc[:, [\"Age\", \"Fare\"]]"
      ],
      "outputs": [
        {
          "output_type": "execute_result",
          "data": {
            "text/plain": [
              "      Age     Fare\n",
              "301  28.0  23.2500\n",
              "309  30.0  56.9292\n",
              "516  34.0  10.5000\n",
              "120  21.0  73.5000\n",
              "570  62.0  10.5000\n",
              "..    ...      ...\n",
              "715  19.0   7.6500\n",
              "767  30.5   7.7500\n",
              "72   21.0  73.5000\n",
              "235  28.0   7.5500\n",
              "37   21.0   8.0500\n",
              "\n",
              "[712 rows x 2 columns]"
            ],
            "text/html": [
              "<div>\n",
              "<style scoped>\n",
              "    .dataframe tbody tr th:only-of-type {\n",
              "        vertical-align: middle;\n",
              "    }\n",
              "\n",
              "    .dataframe tbody tr th {\n",
              "        vertical-align: top;\n",
              "    }\n",
              "\n",
              "    .dataframe thead th {\n",
              "        text-align: right;\n",
              "    }\n",
              "</style>\n",
              "<table border=\"1\" class=\"dataframe\">\n",
              "  <thead>\n",
              "    <tr style=\"text-align: right;\">\n",
              "      <th></th>\n",
              "      <th>Age</th>\n",
              "      <th>Fare</th>\n",
              "    </tr>\n",
              "  </thead>\n",
              "  <tbody>\n",
              "    <tr>\n",
              "      <th>301</th>\n",
              "      <td>28.0</td>\n",
              "      <td>23.2500</td>\n",
              "    </tr>\n",
              "    <tr>\n",
              "      <th>309</th>\n",
              "      <td>30.0</td>\n",
              "      <td>56.9292</td>\n",
              "    </tr>\n",
              "    <tr>\n",
              "      <th>516</th>\n",
              "      <td>34.0</td>\n",
              "      <td>10.5000</td>\n",
              "    </tr>\n",
              "    <tr>\n",
              "      <th>120</th>\n",
              "      <td>21.0</td>\n",
              "      <td>73.5000</td>\n",
              "    </tr>\n",
              "    <tr>\n",
              "      <th>570</th>\n",
              "      <td>62.0</td>\n",
              "      <td>10.5000</td>\n",
              "    </tr>\n",
              "    <tr>\n",
              "      <th>...</th>\n",
              "      <td>...</td>\n",
              "      <td>...</td>\n",
              "    </tr>\n",
              "    <tr>\n",
              "      <th>715</th>\n",
              "      <td>19.0</td>\n",
              "      <td>7.6500</td>\n",
              "    </tr>\n",
              "    <tr>\n",
              "      <th>767</th>\n",
              "      <td>30.5</td>\n",
              "      <td>7.7500</td>\n",
              "    </tr>\n",
              "    <tr>\n",
              "      <th>72</th>\n",
              "      <td>21.0</td>\n",
              "      <td>73.5000</td>\n",
              "    </tr>\n",
              "    <tr>\n",
              "      <th>235</th>\n",
              "      <td>28.0</td>\n",
              "      <td>7.5500</td>\n",
              "    </tr>\n",
              "    <tr>\n",
              "      <th>37</th>\n",
              "      <td>21.0</td>\n",
              "      <td>8.0500</td>\n",
              "    </tr>\n",
              "  </tbody>\n",
              "</table>\n",
              "<p>712 rows × 2 columns</p>\n",
              "</div>"
            ]
          },
          "metadata": {},
          "execution_count": 496
        }
      ],
      "metadata": {}
    },
    {
      "cell_type": "code",
      "execution_count": 497,
      "source": [
        "# Feature Scaling\r\n",
        "from sklearn.preprocessing import StandardScaler\r\n",
        "scaler = StandardScaler()\r\n",
        "\r\n",
        "X_train.loc[:, [\"Age\", \"Fare\"]] = scaler.fit_transform(X_train.loc[:, [\"Age\", \"Fare\"]])\r\n",
        "X_test.loc[:, [\"Age\", \"Fare\"]] = scaler.transform(X_test.loc[:, [\"Age\", \"Fare\"]])"
      ],
      "outputs": [],
      "metadata": {}
    },
    {
      "cell_type": "markdown",
      "source": [
        "# Model Selection"
      ],
      "metadata": {}
    },
    {
      "cell_type": "code",
      "execution_count": 498,
      "source": [
        "from sklearn.metrics import confusion_matrix, accuracy_score\r\n"
      ],
      "outputs": [],
      "metadata": {}
    },
    {
      "cell_type": "code",
      "execution_count": 506,
      "source": [
        "# Training the Random Forest Classification model on the Training set\r\n",
        "from sklearn.ensemble import RandomForestClassifier\r\n",
        "rf_classifier = RandomForestClassifier(n_estimators = 50, criterion = 'entropy', random_state = 0)\r\n",
        "rf_classifier.fit(X_train, y_train)\r\n",
        "\r\n",
        "# Making the Confusion Matrix\r\n",
        "y_pred = rf_classifier.predict(X_test)\r\n",
        "print(confusion_matrix(y_test, y_pred))\r\n",
        "accuracy_score(y_test, y_pred)"
      ],
      "outputs": [
        {
          "output_type": "stream",
          "name": "stdout",
          "text": [
            "[[102   4]\n",
            " [ 31  42]]\n"
          ]
        },
        {
          "output_type": "execute_result",
          "data": {
            "text/plain": [
              "0.8044692737430168"
            ]
          },
          "metadata": {},
          "execution_count": 506
        }
      ],
      "metadata": {}
    },
    {
      "cell_type": "code",
      "execution_count": 507,
      "source": [
        "# Training the Decision Tree Classification model on the Training set\r\n",
        "from sklearn.tree import DecisionTreeClassifier\r\n",
        "dt_classifier = DecisionTreeClassifier(criterion = 'entropy', random_state = 1)\r\n",
        "dt_classifier.fit(X_train, y_train)\r\n",
        "\r\n",
        "# Making the Confusion Matrix\r\n",
        "y_pred = dt_classifier.predict(X_test)\r\n",
        "print(confusion_matrix(y_test, y_pred))\r\n",
        "accuracy_score(y_test, y_pred)"
      ],
      "outputs": [
        {
          "output_type": "stream",
          "name": "stdout",
          "text": [
            "[[93 13]\n",
            " [23 50]]\n"
          ]
        },
        {
          "output_type": "execute_result",
          "data": {
            "text/plain": [
              "0.7988826815642458"
            ]
          },
          "metadata": {},
          "execution_count": 507
        }
      ],
      "metadata": {}
    },
    {
      "cell_type": "code",
      "execution_count": 518,
      "source": [
        "# Training the K-NN model on the Training set\r\n",
        "from sklearn.neighbors import KNeighborsClassifier\r\n",
        "knn_classifier = KNeighborsClassifier(n_neighbors = 3, metric = 'minkowski', p = 2)\r\n",
        "knn_classifier.fit(X_train, y_train)\r\n",
        "\r\n",
        "# Making the Confusion Matrix\r\n",
        "y_pred = knn_classifier.predict(X_test)\r\n",
        "print(confusion_matrix(y_test, y_pred))\r\n",
        "accuracy_score(y_test, y_pred)"
      ],
      "outputs": [
        {
          "output_type": "stream",
          "name": "stdout",
          "text": [
            "[[96 10]\n",
            " [28 45]]\n"
          ]
        },
        {
          "output_type": "execute_result",
          "data": {
            "text/plain": [
              "0.7877094972067039"
            ]
          },
          "metadata": {},
          "execution_count": 518
        }
      ],
      "metadata": {}
    },
    {
      "cell_type": "code",
      "execution_count": 519,
      "source": [
        "# Training the Kernel SVM model on the Training set\r\n",
        "from sklearn.svm import SVC\r\n",
        "ksvm_classifier = SVC(kernel = 'rbf', random_state = 0)\r\n",
        "ksvm_classifier.fit(X_train, y_train)\r\n",
        "\r\n",
        "# Making the Confusion Matrix\r\n",
        "y_pred = ksvm_classifier.predict(X_test)\r\n",
        "print(confusion_matrix(y_test, y_pred))\r\n",
        "accuracy_score(y_test, y_pred)"
      ],
      "outputs": [
        {
          "output_type": "stream",
          "name": "stdout",
          "text": [
            "[[95 11]\n",
            " [25 48]]\n"
          ]
        },
        {
          "output_type": "execute_result",
          "data": {
            "text/plain": [
              "0.7988826815642458"
            ]
          },
          "metadata": {},
          "execution_count": 519
        }
      ],
      "metadata": {}
    },
    {
      "cell_type": "code",
      "execution_count": 526,
      "source": [
        "# Training the Logistic Regression model on the Training set\r\n",
        "from sklearn.linear_model import LogisticRegression\r\n",
        "lr_classifier = LogisticRegression()\r\n",
        "lr_classifier.fit(X_train, y_train)\r\n",
        "\r\n",
        "# Making the Confusion Matrix\r\n",
        "y_pred = lr_classifier.predict(X_test)\r\n",
        "print(confusion_matrix(y_test, y_pred))\r\n",
        "accuracy_score(y_test, y_pred)"
      ],
      "outputs": [
        {
          "output_type": "stream",
          "name": "stdout",
          "text": [
            "[[90 16]\n",
            " [23 50]]\n"
          ]
        },
        {
          "output_type": "execute_result",
          "data": {
            "text/plain": [
              "0.7821229050279329"
            ]
          },
          "metadata": {},
          "execution_count": 526
        }
      ],
      "metadata": {}
    },
    {
      "cell_type": "code",
      "execution_count": 528,
      "source": [
        "# Training the Naive Bayes model on the Training set\r\n",
        "from sklearn.naive_bayes import GaussianNB\r\n",
        "bayes_classifier = GaussianNB()\r\n",
        "bayes_classifier.fit(X_train, y_train)\r\n",
        "\r\n",
        "# Making the Confusion Matrix\r\n",
        "y_pred = bayes_classifier.predict(X_test)\r\n",
        "print(confusion_matrix(y_test, y_pred))\r\n",
        "accuracy_score(y_test, y_pred)"
      ],
      "outputs": [
        {
          "output_type": "stream",
          "name": "stdout",
          "text": [
            "[[27 79]\n",
            " [12 61]]\n"
          ]
        },
        {
          "output_type": "execute_result",
          "data": {
            "text/plain": [
              "0.49162011173184356"
            ]
          },
          "metadata": {},
          "execution_count": 528
        }
      ],
      "metadata": {}
    },
    {
      "cell_type": "code",
      "execution_count": 529,
      "source": [
        "# Training the SVM model on the Training set\r\n",
        "from sklearn.svm import SVC\r\n",
        "svm_classifier = SVC(kernel = 'linear', random_state = 0)\r\n",
        "svm_classifier.fit(X_train, y_train)\r\n",
        "\r\n",
        "# Making the Confusion Matrix\r\n",
        "y_pred = svm_classifier.predict(X_test)\r\n",
        "print(confusion_matrix(y_test, y_pred))\r\n",
        "accuracy_score(y_test, y_pred)"
      ],
      "outputs": [
        {
          "output_type": "stream",
          "name": "stdout",
          "text": [
            "[[91 15]\n",
            " [25 48]]\n"
          ]
        },
        {
          "output_type": "execute_result",
          "data": {
            "text/plain": [
              "0.776536312849162"
            ]
          },
          "metadata": {},
          "execution_count": 529
        }
      ],
      "metadata": {}
    }
  ]
}